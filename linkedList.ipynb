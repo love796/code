{
  "nbformat": 4,
  "nbformat_minor": 0,
  "metadata": {
    "colab": {
      "name": "linkedList.ipynb",
      "version": "0.3.2",
      "provenance": [],
      "include_colab_link": true
    },
    "kernelspec": {
      "name": "python3",
      "display_name": "Python 3"
    }
  },
  "cells": [
    {
      "cell_type": "markdown",
      "metadata": {
        "id": "view-in-github",
        "colab_type": "text"
      },
      "source": [
        "<a href=\"https://colab.research.google.com/github/love796/code/blob/master/linkedList.ipynb\" target=\"_parent\"><img src=\"https://colab.research.google.com/assets/colab-badge.svg\" alt=\"Open In Colab\"/></a>"
      ]
    },
    {
      "metadata": {
        "id": "QNYLEtdQp9sM",
        "colab_type": "code",
        "colab": {}
      },
      "cell_type": "code",
      "source": [
        "class node:\n",
        "  def __init__(self, data=None):\n",
        "    self.data = data;\n",
        "    self.next = None;"
      ],
      "execution_count": 0,
      "outputs": []
    },
    {
      "metadata": {
        "id": "tQFoYku2mUcg",
        "colab_type": "code",
        "colab": {}
      },
      "cell_type": "code",
      "source": [
        "class linkedList:\n",
        "  \n",
        "  def __init__(self):\n",
        "    self.head = None;\n",
        "  \n",
        "  def insert(self, data):\n",
        "    n = node(data);\n",
        "    if self.head is None:\n",
        "      self.head = n;\n",
        "      return;\n",
        "    last = self.head;\n",
        "    while(last.next):\n",
        "      last = last.next;\n",
        "    last.next = n;\n",
        "    print(\"Element added to list\");\n",
        "  \n",
        "  def display(self):\n",
        "    print(\"Linked list\", end=\": \");\n",
        "    if self.head is None:\n",
        "      print(\"List is empty\");\n",
        "    else:\n",
        "      printval = self.head;\n",
        "      while True:\n",
        "        if printval.next is None:\n",
        "          print(printval.data);\n",
        "          break;\n",
        "        else:\n",
        "          print(printval.data, end=\" => \");\n",
        "          printval = printval.next;\n",
        "  \n",
        "  def remove(self):\n",
        "    last = self.head;\n",
        "    previous = last;\n",
        "    while(last.next):\n",
        "      previous = last;\n",
        "      last = last.next;\n",
        "    previous.next = None;\n",
        "    print(\"Element deleted\");"
      ],
      "execution_count": 0,
      "outputs": []
    },
    {
      "metadata": {
        "id": "V_YOCW4AlGQp",
        "colab_type": "code",
        "colab": {
          "base_uri": "https://localhost:8080/",
          "height": 102
        },
        "outputId": "b01711ed-3d4d-4e0a-a027-b293e8ae7376"
      },
      "cell_type": "code",
      "source": [
        "list = linkedList();\n",
        "list.insert(1);\n",
        "list.insert(2);\n",
        "list.insert(3);\n",
        "list.display();\n",
        "list.remove();\n",
        "list.display();"
      ],
      "execution_count": 40,
      "outputs": [
        {
          "output_type": "stream",
          "text": [
            "Element added to list\n",
            "Element added to list\n",
            "Linked list: 1 => 2 => 3\n",
            "Element deleted\n",
            "Linked list: 1 => 2\n"
          ],
          "name": "stdout"
        }
      ]
    }
  ]
}